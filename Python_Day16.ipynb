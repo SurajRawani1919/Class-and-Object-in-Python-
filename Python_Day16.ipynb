{
 "cells": [
  {
   "cell_type": "code",
   "execution_count": 24,
   "id": "f2e178d0-9596-41b5-9d07-cc1d860e6f5c",
   "metadata": {},
   "outputs": [
    {
     "name": "stdout",
     "output_type": "stream",
     "text": [
      "My name is suraj and my age 20\n"
     ]
    }
   ],
   "source": [
    "#object oriented programing\n",
    "\n",
    "class classname:\n",
    "    def __init__(self, name,age):  \n",
    "        self.name = name\n",
    "        self.age=age\n",
    "        print(f\"My name is {self.name} and my age {age}\")\n",
    "        \n",
    "obj = classname(\"suraj\",20)  \n"
   ]
  },
  {
   "cell_type": "code",
   "execution_count": null,
   "id": "027ea799-8510-4e2e-84b4-98ffa37df367",
   "metadata": {},
   "outputs": [],
   "source": [
    "class classname:\n",
    "    def __init__(self, name):  \n",
    "        self.name = name\n",
    "        \n",
    "    def greet(self):\n",
    "        print(f'hello {self.name}')"
   ]
  },
  {
   "cell_type": "code",
   "execution_count": 25,
   "id": "3829c2b4-2724-43b3-9514-0bb8d49b87da",
   "metadata": {},
   "outputs": [
    {
     "name": "stdout",
     "output_type": "stream",
     "text": [
      "My name is Suraj and my age is 20\n"
     ]
    }
   ],
   "source": [
    "class Person:\n",
    "    def __init__(self,name,age):\n",
    "        self.age=age\n",
    "        self.name=name\n",
    "        \n",
    "    def info(self):\n",
    "        print(f\"My name is {self.name} and my age is {self.age}\")\n",
    "\n",
    "obj1=Person('Suraj',20)\n",
    "\n",
    "obj1.info()\n"
   ]
  },
  {
   "cell_type": "code",
   "execution_count": null,
   "id": "5551e0bd-76ee-4b06-9d50-5bbd119a43c2",
   "metadata": {},
   "outputs": [],
   "source": []
  }
 ],
 "metadata": {
  "kernelspec": {
   "display_name": "Python 3 (ipykernel)",
   "language": "python",
   "name": "python3"
  },
  "language_info": {
   "codemirror_mode": {
    "name": "ipython",
    "version": 3
   },
   "file_extension": ".py",
   "mimetype": "text/x-python",
   "name": "python",
   "nbconvert_exporter": "python",
   "pygments_lexer": "ipython3",
   "version": "3.10.11"
  }
 },
 "nbformat": 4,
 "nbformat_minor": 5
}
